{
 "cells": [
  {
   "cell_type": "markdown",
   "metadata": {},
   "source": [
    "## Imports"
   ]
  },
  {
   "cell_type": "code",
   "execution_count": 117,
   "metadata": {},
   "outputs": [],
   "source": [
    "import pandas as pd\n",
    "import numpy as np"
   ]
  },
  {
   "cell_type": "code",
   "execution_count": 74,
   "metadata": {},
   "outputs": [],
   "source": [
    "pd.set_option('display.max_columns', None)"
   ]
  },
  {
   "cell_type": "markdown",
   "metadata": {},
   "source": [
    "## Get data"
   ]
  },
  {
   "cell_type": "code",
   "execution_count": 91,
   "metadata": {},
   "outputs": [],
   "source": [
    "df_cases = pd.read_parquet('./Processed/WHO-COVID19-CASES.parquet')\n",
    "\n",
    "df_vaccines = pd.read_parquet('./Processed/WHO-COVID19-VACCINES.parquet')\n",
    "\n",
    "df_countries = pd.read_parquet('./Processed/COUNTRIES_DETAILED.parquet')"
   ]
  },
  {
   "cell_type": "markdown",
   "metadata": {},
   "source": [
    "## Merge"
   ]
  },
  {
   "cell_type": "code",
   "execution_count": 111,
   "metadata": {},
   "outputs": [],
   "source": [
    "df_merged = pd.merge(pd.merge(df_cases, df_vaccines, left_on='Key', right_on='Key', how='left'), df_countries, left_on='IsoCode_x', right_on='IsoCode', how='left').drop(\n",
    "    columns=['IsoCode_y', 'Location_x', 'Location_y', 'Date']).rename(columns={'IsoCode_x': 'IsoCode', 'Location_x': 'Location'})\n"
   ]
  },
  {
   "cell_type": "code",
   "execution_count": 114,
   "metadata": {},
   "outputs": [],
   "source": [
    "# drop one of two 'IsoCode' columns by keeping only the not duplicated columns\n",
    "\n",
    "df_merged = df_merged.loc[:, ~df_merged.columns.duplicated()]"
   ]
  },
  {
   "cell_type": "code",
   "execution_count": 118,
   "metadata": {},
   "outputs": [],
   "source": [
    "# reaplace 0 with NaN in the following columns\n",
    "\n",
    "ols = ['NewCases', 'CumulativeCases', 'NewDeaths', 'CumulativeDeaths']\n",
    "df_merged[cols] = df_merged[cols].replace(0, np.nan)"
   ]
  },
  {
   "cell_type": "markdown",
   "metadata": {},
   "source": [
    "## Save to parquet"
   ]
  },
  {
   "cell_type": "code",
   "execution_count": 136,
   "metadata": {},
   "outputs": [],
   "source": [
    "df_merged.to_parquet('./Processed/WHO-COVID19-MERGED.parquet')"
   ]
  }
 ],
 "metadata": {
  "interpreter": {
   "hash": "7d3f93f6e8d16a39f52c188d5590f39f65316b2b18c46d8e95e632bc0b569045"
  },
  "kernelspec": {
   "display_name": "Python 3.8.5 64-bit ('base': conda)",
   "language": "python",
   "name": "python3"
  },
  "language_info": {
   "codemirror_mode": {
    "name": "ipython",
    "version": 3
   },
   "file_extension": ".py",
   "mimetype": "text/x-python",
   "name": "python",
   "nbconvert_exporter": "python",
   "pygments_lexer": "ipython3",
   "version": "3.8.5"
  },
  "orig_nbformat": 4
 },
 "nbformat": 4,
 "nbformat_minor": 2
}
