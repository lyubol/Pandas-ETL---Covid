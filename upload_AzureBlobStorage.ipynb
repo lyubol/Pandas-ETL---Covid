{
 "cells": [
  {
   "cell_type": "code",
   "execution_count": 2,
   "metadata": {},
   "outputs": [],
   "source": [
    "# uploading files using ContainerClient\n",
    "\n",
    "from azure.storage.blob import ContainerClient\n",
    "\n",
    "CONNECT_STR = \"DefaultEndpointsProtocol=https;AccountName=lirkovblob;AccountKey=j7S+VWpwAGd4dWfHudiMXu18K9QiY6x61mXUN16qEjxbyT4L0qy9PsW4F7NogGjDHf6v/iUqS512DQnMjNTfYw==;EndpointSuffix=core.windows.net\"\n",
    "CONTAINER_NAME = \"processed\"\n",
    "input_file_path = \"C:/Users/L_L/Desktop/Pandas ETL - Covid/Processed/COUNTRIES_DETAILED.csv\"\n",
    "output_blob_name = \"output_blob2.csv\"\n",
    "\n",
    "container_client = ContainerClient.from_connection_string(conn_str=CONNECT_STR, container_name=CONTAINER_NAME)\n",
    "\n",
    "# Upload file\n",
    "with open(input_file_path, \"rb\") as data:\n",
    "    container_client.upload_blob(name=output_blob_name, data=data)"
   ]
  }
 ],
 "metadata": {
  "interpreter": {
   "hash": "7d3f93f6e8d16a39f52c188d5590f39f65316b2b18c46d8e95e632bc0b569045"
  },
  "kernelspec": {
   "display_name": "Python 3.8.5 64-bit ('base': conda)",
   "language": "python",
   "name": "python3"
  },
  "language_info": {
   "codemirror_mode": {
    "name": "ipython",
    "version": 3
   },
   "file_extension": ".py",
   "mimetype": "text/x-python",
   "name": "python",
   "nbconvert_exporter": "python",
   "pygments_lexer": "ipython3",
   "version": "3.8.5"
  },
  "orig_nbformat": 4
 },
 "nbformat": 4,
 "nbformat_minor": 2
}
