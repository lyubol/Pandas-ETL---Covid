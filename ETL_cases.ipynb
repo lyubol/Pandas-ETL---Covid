{
 "cells": [
  {
   "cell_type": "markdown",
   "id": "c57cdb85",
   "metadata": {},
   "source": [
    "## Imports"
   ]
  },
  {
   "cell_type": "code",
   "execution_count": 84,
   "id": "34f775db",
   "metadata": {},
   "outputs": [],
   "source": [
    "import requests\n",
    "import pandas as pd\n",
    "import numpy as np\n",
    "import pyodbc \n",
    "import import_ipynb\n",
    "import functions as f"
   ]
  },
  {
   "cell_type": "markdown",
   "id": "ce505afc",
   "metadata": {},
   "source": [
    "## Extract"
   ]
  },
  {
   "cell_type": "code",
   "execution_count": 19,
   "id": "b7782d66",
   "metadata": {},
   "outputs": [],
   "source": [
    "# create DataFrame\n",
    "\n",
    "df_cases = pd.read_csv('./Raw/WHO-COVID19-CASES.csv')"
   ]
  },
  {
   "cell_type": "markdown",
   "id": "3459c587",
   "metadata": {},
   "source": [
    "## Transform"
   ]
  },
  {
   "cell_type": "code",
   "execution_count": 9,
   "id": "08fa197d",
   "metadata": {},
   "outputs": [],
   "source": [
    "# clean column names\n",
    "\n",
    "df_cases.columns = f.fixColumnNames(df_cases)"
   ]
  },
  {
   "cell_type": "code",
   "execution_count": 10,
   "id": "7ecbc82a",
   "metadata": {},
   "outputs": [],
   "source": [
    "# change data types\n",
    "\n",
    "f.changeDataType(df_cases, 'DateReported', 'datetime64')"
   ]
  },
  {
   "cell_type": "code",
   "execution_count": 11,
   "id": "ca0651d2",
   "metadata": {},
   "outputs": [],
   "source": [
    "# create DataFrame for the 'countries' dataset. It will be used to bring country iso code to the main DataFrame\n",
    "\n",
    "df_countries = pd.read_csv('./Processed/COUNTRIES_DETAILED.csv')"
   ]
  },
  {
   "cell_type": "code",
   "execution_count": 12,
   "id": "b0d8658b",
   "metadata": {},
   "outputs": [],
   "source": [
    "# left join df_countries to df_cases to bring the 3-letter country code\n",
    "\n",
    "df_merged = df_cases.merge(df_countries[['IsoCode', 'Alpha2']], left_on='CountryCode', right_on='Alpha2', how='left').drop(columns=['Alpha2', 'CountryCode'])"
   ]
  },
  {
   "cell_type": "code",
   "execution_count": 85,
   "id": "85ddd78a",
   "metadata": {},
   "outputs": [],
   "source": [
    "# replace 0 with NaN in numeric columns\n",
    "\n",
    "df_merged[f.colTypesList(df_merged, 'int64')] = df_merged[f.colTypesList(df_merged, 'int64')].replace(0, np.nan)"
   ]
  },
  {
   "cell_type": "code",
   "execution_count": 87,
   "id": "c4a717f7",
   "metadata": {},
   "outputs": [],
   "source": [
    "# drop rows with missing 'IsoCode'\n",
    "\n",
    "df_merged = df_merged.loc[df_merged['IsoCode'].isna() == False]"
   ]
  },
  {
   "cell_type": "code",
   "execution_count": 88,
   "id": "1f4a1c01",
   "metadata": {},
   "outputs": [],
   "source": [
    "# reorder columns\n",
    "\n",
    "df_merged = f.reindexCols(df_merged, [0,1,7,2,3,4,5,6])"
   ]
  },
  {
   "cell_type": "code",
   "execution_count": 89,
   "id": "8a9b4b62",
   "metadata": {},
   "outputs": [],
   "source": [
    "# create 'Key' column by concatenating 'CountryCode' and 'DateReported'\n",
    "\n",
    "df_merged['Key'] = df_merged['IsoCode'] + df_merged['DateReported'].astype(str).str.replace('-','')"
   ]
  },
  {
   "cell_type": "code",
   "execution_count": 90,
   "id": "d25d215b",
   "metadata": {},
   "outputs": [],
   "source": [
    "# set 'Key' as an index and ensure that there are no duplicates\n",
    "\n",
    "df_merged.set_index('Key', inplace=True, verify_integrity=True)"
   ]
  },
  {
   "cell_type": "markdown",
   "id": "8214744d",
   "metadata": {},
   "source": [
    "## Load"
   ]
  },
  {
   "cell_type": "code",
   "execution_count": 91,
   "id": "b499c5eb",
   "metadata": {},
   "outputs": [],
   "source": [
    "# save as parquet to preserve data types\n",
    "\n",
    "df_merged.to_parquet('./Processed/WHO-COVID19-CASES.parquet')"
   ]
  }
 ],
 "metadata": {
  "kernelspec": {
   "display_name": "Python 3",
   "language": "python",
   "name": "python3"
  },
  "language_info": {
   "codemirror_mode": {
    "name": "ipython",
    "version": 3
   },
   "file_extension": ".py",
   "mimetype": "text/x-python",
   "name": "python",
   "nbconvert_exporter": "python",
   "pygments_lexer": "ipython3",
   "version": "3.8.5"
  }
 },
 "nbformat": 4,
 "nbformat_minor": 5
}
