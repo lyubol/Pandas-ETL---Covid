{
 "cells": [
  {
   "cell_type": "markdown",
   "metadata": {},
   "source": [
    "## Imports"
   ]
  },
  {
   "cell_type": "code",
   "execution_count": 138,
   "metadata": {},
   "outputs": [],
   "source": [
    "import pandas as pd\n",
    "import pyodbc \n",
    "import import_ipynb\n",
    "import functions as f"
   ]
  },
  {
   "cell_type": "code",
   "execution_count": 139,
   "metadata": {},
   "outputs": [],
   "source": [
    "# read datasets\n",
    "\n",
    "df_cases = pd.read_parquet('./Processed/WHO-COVID19-CASES.parquet')\n",
    "\n",
    "df_vaccines = pd.read_parquet('./Processed/WHO-COVID19-VACCINES.parquet')\n",
    "\n",
    "df_countries = pd.read_parquet('./Processed/COUNTRIES_DETAILED.parquet')"
   ]
  },
  {
   "cell_type": "code",
   "execution_count": 140,
   "metadata": {},
   "outputs": [],
   "source": [
    "# Find the latest date in df_cases and df_vaccines\n",
    "\n",
    "max_cases_df_date = df_cases['DateReported'].max().date()\n",
    "\n",
    "max_vaccines_df_date = df_vaccines['Date'].max().date()"
   ]
  },
  {
   "cell_type": "code",
   "execution_count": 141,
   "metadata": {},
   "outputs": [],
   "source": [
    "# SQL Server connection variables\n",
    "\n",
    "server = 'lirkovsrv.database.windows.net'\n",
    "database = 'lirkovdb'\n",
    "username = 'lirkov'\n",
    "password = '{LLirkoff31}'   \n",
    "driver= '{ODBC Driver 17 for SQL Server}'"
   ]
  },
  {
   "cell_type": "code",
   "execution_count": 142,
   "metadata": {},
   "outputs": [],
   "source": [
    "# connect to SQL Server\n",
    "\n",
    "conn =  pyodbc.connect('DRIVER='+driver+';SERVER=tcp:'+server+';PORT=1433;DATABASE='+database+';UID='+username+';PWD='+ password)\n",
    "cursor = conn.cursor()"
   ]
  },
  {
   "cell_type": "code",
   "execution_count": 143,
   "metadata": {},
   "outputs": [
    {
     "name": "stdout",
     "output_type": "stream",
     "text": [
      "Database is up to date\n"
     ]
    }
   ],
   "source": [
    "# upsert to covid.who_cases SQL Server table\n",
    "\n",
    "cursor.execute('SELECT MAX(DateReported) FROM covid.who_cases')\n",
    "max_db_date = cursor.fetchone()\n",
    "\n",
    "if max_db_date[0] < max_cases_df_date:\n",
    "    df_cases_upsert = df_cases[df_cases['DateReported'].dt.date > max_db_date[0]]\n",
    "    for index, row in df_cases_upsert.iterrows():\n",
    "        cursor.execute(\"INSERT INTO covid.who_cases (DateReported, Country, IsoCode, WhoRegion, NewCases, CumulativeCases, NewDeaths, CumulativeDeaths) VALUES(?,?,?,?,?,?,?,?)\", row.DateReported, row.Country, row.IsoCode, row.WhoRegion, row.NewCases, row.CumulativeCases, row.NewDeaths, row.CumulativeDeaths)\n",
    "    print(f'{len(df_cases_upsert)} rows have been inserted')\n",
    "else:\n",
    "    print('Database is up to date')\n",
    "\n",
    "\n",
    "conn.commit()\n",
    "cursor.close()"
   ]
  },
  {
   "cell_type": "code",
   "execution_count": 146,
   "metadata": {},
   "outputs": [],
   "source": [
    "# upsert to covid.who_vaccines SQL Server table\n",
    "\n",
    "conn =  pyodbc.connect('DRIVER='+driver+';SERVER=tcp:'+server+';PORT=1433;DATABASE='+database+';UID='+username+';PWD='+ password)\n",
    "cursor = conn.cursor()\n",
    "\n",
    "cursor.execute('SELECT MAX(Date) FROM covid.who_vaccines')\n",
    "max_db_date = cursor.fetchone()\n",
    "\n",
    "try:\n",
    "    if max_db_date[0] < max_vaccines_df_date:\n",
    "        df_vaccines_upsert = df_vaccines[df_vaccines['DateReported'].dt.date > max_db_date[0]]\n",
    "        for index, row in df_vaccines_upsert.iterrows():\n",
    "            cursor.execute(\"INSERT INTO covid.who_vaccines (Location, IsoCode, Date, TotalVaccinations, PeopleVaccinated, PeopleFullyVaccinated, TotalBoosters, DailyVaccinationsRaw, DailyVaccinations, TotalVaccinationsPerHundred, PeopleVaccinatedPerHundred, PeopleFullyVaccinatedPerHundred, TotalBoostersPerHundred, DailyVaccinationsPerMillion, DailyPeopleVaccinated, DailyPeopleVaccinatedPerHundred) VALUES(?,?,?,?,?,?,?,?,?,?,?,?,?,?,?,?)\",\n",
    "                        row.Location, row.IsoCode, row.Date, row.TotalVaccinations, row.PeopleVaccinated, row.PeopleFullyVaccinated, row.TotalBoosters, row.DailyVaccinationsRaw, row.DailyVaccinations, row.TotalVaccinationsPerHundred, row.PeopleVaccinatedPerHundred, row.PeopleFullyVaccinatedPerHundred, row.TotalBoostersPerHundred, row.DailyVaccinationsPerMillion, row.DailyPeopleVaccinated, row.DailyPeopleVaccinatedPerHundred)\n",
    "        print(f'{len(df_vaccines_upsert)} rows have been inserted')\n",
    "    else:\n",
    "        print('Database is up to date')\n",
    "except TypeError:\n",
    "    for index, row in df_vaccines.iterrows():\n",
    "        cursor.execute(\"INSERT INTO covid.who_vaccines (Location, IsoCode, Date, TotalVaccinations, PeopleVaccinated, PeopleFullyVaccinated, TotalBoosters, DailyVaccinationsRaw, DailyVaccinations, TotalVaccinationsPerHundred, PeopleVaccinatedPerHundred, PeopleFullyVaccinatedPerHundred, TotalBoostersPerHundred, DailyVaccinationsPerMillion, DailyPeopleVaccinated, DailyPeopleVaccinatedPerHundred) VALUES(?,?,?,?,?,?,?,?,?,?,?,?,?,?,?,?)\",\n",
    "                       row.Location, row.IsoCode, row.Date, row.TotalVaccinations, row.PeopleVaccinated, row.PeopleFullyVaccinated, row.TotalBoosters, row.DailyVaccinationsRaw, row.DailyVaccinations, row.TotalVaccinationsPerHundred, row.PeopleVaccinatedPerHundred, row.PeopleFullyVaccinatedPerHundred, row.TotalBoostersPerHundred, row.DailyVaccinationsPerMillion, row.DailyPeopleVaccinated, row.DailyPeopleVaccinatedPerHundred)\n",
    "\n",
    "conn.commit()\n",
    "cursor.close()\n"
   ]
  },
  {
   "cell_type": "code",
   "execution_count": null,
   "metadata": {},
   "outputs": [],
   "source": [
    "# countries\n",
    "\n",
    "# cursor.execute(\"INSERT INTO covid.countries (Continent, Location, IsoCode, Population, PopulationDensity, MedianAge, GdpPerCapita, HumanDevelopmentIndex, LifeExpectancy, Aged65Older, Aged70Older, Alpha2) VALUES(?,?,?,?,?,?,?,?,?,?,?,?)\",\n",
    "#     row.Continent, row.Location, row.IsoCode, row.Population, row.PopulationDensity, row.MedianAge, row.GdpPerCapita, row.HumanDevelopmentIndex, row.LifeExpectancy, row.Aged65Older, row.Aged70Older, row.Alpha2)\n",
    "\n",
    "# conn.commit()\n",
    "# cursor.close()"
   ]
  }
 ],
 "metadata": {
  "interpreter": {
   "hash": "7d3f93f6e8d16a39f52c188d5590f39f65316b2b18c46d8e95e632bc0b569045"
  },
  "kernelspec": {
   "display_name": "Python 3.8.5 64-bit ('base': conda)",
   "language": "python",
   "name": "python3"
  },
  "language_info": {
   "codemirror_mode": {
    "name": "ipython",
    "version": 3
   },
   "file_extension": ".py",
   "mimetype": "text/x-python",
   "name": "python",
   "nbconvert_exporter": "python",
   "pygments_lexer": "ipython3",
   "version": "3.8.5"
  },
  "orig_nbformat": 4
 },
 "nbformat": 4,
 "nbformat_minor": 2
}
