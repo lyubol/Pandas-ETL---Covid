{
 "cells": [
  {
   "cell_type": "code",
   "execution_count": 58,
   "metadata": {},
   "outputs": [],
   "source": [
    "import requests"
   ]
  },
  {
   "cell_type": "code",
   "execution_count": 59,
   "id": "e1db016d",
   "metadata": {},
   "outputs": [],
   "source": [
    "def downloadFile(filename, download_url):   \n",
    "    req = requests.get(download_url)\n",
    "    with open(filename, 'wb') as file:\n",
    "        file.write(req.content)  "
   ]
  },
  {
   "cell_type": "markdown",
   "metadata": {},
   "source": [
    "## Data transformation functions"
   ]
  },
  {
   "cell_type": "code",
   "execution_count": 61,
   "metadata": {},
   "outputs": [],
   "source": [
    "# clean column names\n",
    "def fixColumnNames(input_df):\n",
    "    columns = []\n",
    "    for column in input_df.columns:\n",
    "        column = column.title()\n",
    "        column = column.replace(\" \" , \"\")\n",
    "        column = column.replace(\"-\" , \"\")\n",
    "        column = column.replace(\"_\" , \"\")\n",
    "        column = column.replace(\",\" , \"\")\n",
    "        column = column.replace(\";\" , \"\")\n",
    "        column = column.replace(\"{\" , \"\")\n",
    "        column = column.replace(\"}\" , \"\")  \n",
    "        column = column.replace(\"(\" , \"\")\n",
    "        column = column.replace(\")\" , \"\")\n",
    "        column = column.replace(\"\\t\", \"\")\n",
    "        column = column.replace(\"=\" , \"\")\n",
    "        columns.append(column)\n",
    "    return columns\n",
    "\n",
    "# reorder columns based on index\n",
    "def reindexCols(input_df, order_list):\n",
    "    if isinstance(order_list, list) == True:\n",
    "        cols_list = list(input_df.columns)\n",
    "        cols_order = order_list\n",
    "        cols_ordered = [cols_list[i] for i in cols_order]\n",
    "        input_df = input_df.reindex(columns=cols_ordered)\n",
    "        return input_df\n",
    "    else:\n",
    "        return 'list of columns has not been provided'\n",
    "\n",
    "# check the max length of each column\n",
    "def checkColumnLen(input_df):\n",
    "    length_dict = {}\n",
    "    for column in input_df.columns:\n",
    "        length_dict[column] = [max(input_df[column].astype(str).apply(len)), min(input_df[column].astype(str).apply(len))]\n",
    "    return length_dict\n",
    "\n",
    "# change data type\n",
    "def changeDataType(input_df, column, data_type):\n",
    "    input_df[column] = input_df[column].astype(data_type)"
   ]
  }
 ],
 "metadata": {
  "language_info": {
   "name": "python"
  },
  "orig_nbformat": 4
 },
 "nbformat": 4,
 "nbformat_minor": 2
}
