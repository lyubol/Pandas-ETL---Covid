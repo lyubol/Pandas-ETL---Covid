{
 "cells": [
  {
   "cell_type": "code",
   "execution_count": 2,
   "metadata": {},
   "outputs": [],
   "source": [
    "import requests"
   ]
  },
  {
   "cell_type": "code",
   "execution_count": 3,
   "id": "e1db016d",
   "metadata": {},
   "outputs": [],
   "source": [
    "def downloadFile(filename, download_url):   \n",
    "    req = requests.get(download_url)\n",
    "    with open(filename, 'wb') as file:\n",
    "        file.write(req.content)  "
   ]
  },
  {
   "cell_type": "markdown",
   "metadata": {},
   "source": [
    "## Data transformation functions"
   ]
  },
  {
   "cell_type": "code",
   "execution_count": 4,
   "metadata": {},
   "outputs": [],
   "source": [
    "# clean column names\n",
    "def fixColumnNames(input_df):\n",
    "    columns = []\n",
    "    for column in input_df.columns:\n",
    "        column = column.title()\n",
    "        column = column.replace(\" \" , \"\")\n",
    "        column = column.replace(\"-\" , \"\")\n",
    "        column = column.replace(\"_\" , \"\")\n",
    "        column = column.replace(\",\" , \"\")\n",
    "        column = column.replace(\";\" , \"\")\n",
    "        column = column.replace(\"{\" , \"\")\n",
    "        column = column.replace(\"}\" , \"\")  \n",
    "        column = column.replace(\"(\" , \"\")\n",
    "        column = column.replace(\")\" , \"\")\n",
    "        column = column.replace(\"\\t\", \"\")\n",
    "        column = column.replace(\"=\" , \"\")\n",
    "        columns.append(column)\n",
    "    return columns\n",
    "\n",
    "# reorder columns based on index\n",
    "def reindexCols(input_df, order_list):\n",
    "    if isinstance(order_list, list) == True:\n",
    "        cols_list = list(input_df.columns)\n",
    "        cols_order = order_list\n",
    "        cols_ordered = [cols_list[i] for i in cols_order]\n",
    "        input_df = input_df.reindex(columns=cols_ordered)\n",
    "        return input_df\n",
    "    else:\n",
    "        return 'list of columns has not been provided'\n",
    "\n",
    "# create a list with column names of specific data type\n",
    "def colTypesList(input_df, dtype):\n",
    "    int_cols = input_df.dtypes.index[input_df.dtypes.values == dtype].to_list()\n",
    "    return int_cols\n",
    "\n",
    "# check the max length of each column\n",
    "def checkColumnLen(input_df):\n",
    "    length_dict = {}\n",
    "    for column in input_df.columns:\n",
    "        length_dict[column] = [max(input_df[column].astype(str).apply(len)), min(input_df[column].astype(str).apply(len))]\n",
    "    return length_dict\n",
    "\n",
    "# change data type\n",
    "def changeDataType(input_df, column, data_type):\n",
    "    input_df[column] = input_df[column].astype(data_type)"
   ]
  }
 ],
 "metadata": {
  "interpreter": {
   "hash": "7d3f93f6e8d16a39f52c188d5590f39f65316b2b18c46d8e95e632bc0b569045"
  },
  "kernelspec": {
   "display_name": "Python 3.8.5 64-bit ('base': conda)",
   "language": "python",
   "name": "python3"
  },
  "language_info": {
   "codemirror_mode": {
    "name": "ipython",
    "version": 3
   },
   "file_extension": ".py",
   "mimetype": "text/x-python",
   "name": "python",
   "nbconvert_exporter": "python",
   "pygments_lexer": "ipython3",
   "version": "3.8.5"
  },
  "orig_nbformat": 4
 },
 "nbformat": 4,
 "nbformat_minor": 2
}
